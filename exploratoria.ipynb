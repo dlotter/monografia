{
 "cells": [
  {
   "cell_type": "code",
   "execution_count": 3,
   "metadata": {},
   "outputs": [],
   "source": [
    "import pandas as pd"
   ]
  },
  {
   "cell_type": "code",
   "execution_count": 1,
   "metadata": {},
   "outputs": [],
   "source": [
    "def concat_dfs(folder_path):\n",
    "    # folder_path = 'parsed_data/auxilio_emergencial'\n",
    "\n",
    "    file_names = os.listdir(folder_path)\n",
    "\n",
    "    df = pd.DataFrame([])\n",
    "\n",
    "    total_rows = 0\n",
    "\n",
    "    for file in file_names:\n",
    "        date = file[:-4]\n",
    "        path = os.path.join(folder_path, file)\n",
    "        if df.empty:\n",
    "            df = pd.read_csv(path)\n",
    "            df['date'] = pd.to_datetime(date, format='%Y%m')\n",
    "            total_rows += len(df)\n",
    "        else:\n",
    "            next_df = pd.read_csv(path)\n",
    "            next_df['date'] = pd.to_datetime(date, format='%Y%m')\n",
    "            total_rows += len(next_df)\n",
    "            df = pd.concat([df, next_df], ignore_index=True)\n",
    "    \n",
    "    df.sort_values('date', ascending=True)\n",
    "\n",
    "    assert len(df) == total_rows\n",
    "            \n",
    "    return df"
   ]
  },
  {
   "cell_type": "code",
   "execution_count": 7,
   "metadata": {},
   "outputs": [],
   "source": [
    "auxilio_emergencial = concat_dfs('parsed_data/auxilio_emergencial')\n",
    "bolsa_familia = concat_dfs('parsed_data/bolsa_familia')"
   ]
  },
  {
   "cell_type": "code",
   "execution_count": 15,
   "metadata": {},
   "outputs": [
    {
     "data": {
      "text/html": [
       "<div>\n",
       "<style scoped>\n",
       "    .dataframe tbody tr th:only-of-type {\n",
       "        vertical-align: middle;\n",
       "    }\n",
       "\n",
       "    .dataframe tbody tr th {\n",
       "        vertical-align: top;\n",
       "    }\n",
       "\n",
       "    .dataframe thead th {\n",
       "        text-align: right;\n",
       "    }\n",
       "</style>\n",
       "<table border=\"1\" class=\"dataframe\">\n",
       "  <thead>\n",
       "    <tr style=\"text-align: right;\">\n",
       "      <th></th>\n",
       "      <th>municipio_siafi</th>\n",
       "      <th>contagem</th>\n",
       "      <th>soma</th>\n",
       "    </tr>\n",
       "    <tr>\n",
       "      <th>date</th>\n",
       "      <th></th>\n",
       "      <th></th>\n",
       "      <th></th>\n",
       "    </tr>\n",
       "  </thead>\n",
       "  <tbody>\n",
       "    <tr>\n",
       "      <th>2021-01-01</th>\n",
       "      <td>25175722</td>\n",
       "      <td>14060674.0</td>\n",
       "      <td>2.688952e+09</td>\n",
       "    </tr>\n",
       "    <tr>\n",
       "      <th>2021-02-01</th>\n",
       "      <td>25175722</td>\n",
       "      <td>14063377.0</td>\n",
       "      <td>2.638217e+09</td>\n",
       "    </tr>\n",
       "    <tr>\n",
       "      <th>2021-03-01</th>\n",
       "      <td>25175722</td>\n",
       "      <td>14381754.0</td>\n",
       "      <td>2.689139e+09</td>\n",
       "    </tr>\n",
       "    <tr>\n",
       "      <th>2021-04-01</th>\n",
       "      <td>25175722</td>\n",
       "      <td>4046920.0</td>\n",
       "      <td>1.033779e+09</td>\n",
       "    </tr>\n",
       "    <tr>\n",
       "      <th>2021-05-01</th>\n",
       "      <td>25175722</td>\n",
       "      <td>4307712.0</td>\n",
       "      <td>1.103672e+09</td>\n",
       "    </tr>\n",
       "    <tr>\n",
       "      <th>2021-06-01</th>\n",
       "      <td>25175722</td>\n",
       "      <td>4299518.0</td>\n",
       "      <td>1.100846e+09</td>\n",
       "    </tr>\n",
       "    <tr>\n",
       "      <th>2021-07-01</th>\n",
       "      <td>25175722</td>\n",
       "      <td>4519854.0</td>\n",
       "      <td>1.147867e+09</td>\n",
       "    </tr>\n",
       "    <tr>\n",
       "      <th>2021-08-01</th>\n",
       "      <td>25175722</td>\n",
       "      <td>4731487.0</td>\n",
       "      <td>1.154335e+09</td>\n",
       "    </tr>\n",
       "    <tr>\n",
       "      <th>2021-09-01</th>\n",
       "      <td>25175722</td>\n",
       "      <td>4664558.0</td>\n",
       "      <td>1.172707e+09</td>\n",
       "    </tr>\n",
       "    <tr>\n",
       "      <th>2021-10-01</th>\n",
       "      <td>25175722</td>\n",
       "      <td>4759020.0</td>\n",
       "      <td>1.193417e+09</td>\n",
       "    </tr>\n",
       "  </tbody>\n",
       "</table>\n",
       "</div>"
      ],
      "text/plain": [
       "            municipio_siafi    contagem          soma\n",
       "date                                                 \n",
       "2021-01-01         25175722  14060674.0  2.688952e+09\n",
       "2021-02-01         25175722  14063377.0  2.638217e+09\n",
       "2021-03-01         25175722  14381754.0  2.689139e+09\n",
       "2021-04-01         25175722   4046920.0  1.033779e+09\n",
       "2021-05-01         25175722   4307712.0  1.103672e+09\n",
       "2021-06-01         25175722   4299518.0  1.100846e+09\n",
       "2021-07-01         25175722   4519854.0  1.147867e+09\n",
       "2021-08-01         25175722   4731487.0  1.154335e+09\n",
       "2021-09-01         25175722   4664558.0  1.172707e+09\n",
       "2021-10-01         25175722   4759020.0  1.193417e+09"
      ]
     },
     "execution_count": 15,
     "metadata": {},
     "output_type": "execute_result"
    }
   ],
   "source": [
    "bolsa_familia[(bolsa_familia['date'] >= '2021-01-01') & (bolsa_familia['date'] <= '2021-12-31')].groupby('date').sum()"
   ]
  },
  {
   "cell_type": "code",
   "execution_count": null,
   "metadata": {},
   "outputs": [],
   "source": []
  }
 ],
 "metadata": {
  "kernelspec": {
   "display_name": "Python 3.8.10 ('env': venv)",
   "language": "python",
   "name": "python3"
  },
  "language_info": {
   "codemirror_mode": {
    "name": "ipython",
    "version": 3
   },
   "file_extension": ".py",
   "mimetype": "text/x-python",
   "name": "python",
   "nbconvert_exporter": "python",
   "pygments_lexer": "ipython3",
   "version": "3.8.10"
  },
  "orig_nbformat": 4,
  "vscode": {
   "interpreter": {
    "hash": "433dbfedbe86ae2f557b1546264acca3e7507ab47f4bee73efad1fb302bf526e"
   }
  }
 },
 "nbformat": 4,
 "nbformat_minor": 2
}
