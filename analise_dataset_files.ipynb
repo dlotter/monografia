{
 "cells": [
  {
   "cell_type": "markdown",
   "metadata": {},
   "source": [
    "# Análise dos Datasets\n",
    "\n",
    "Esse notebook contém análises sobre os datasets para garantir uma melhor validade das conclusões do estudo principal."
   ]
  },
  {
   "cell_type": "code",
   "execution_count": 1,
   "metadata": {},
   "outputs": [],
   "source": [
    "import pandas as pd\n",
    "import seaborn as sns\n",
    "import matplotlib.pyplot as plt\n",
    "from matplotlib import dates\n",
    "import numpy as np\n",
    "from datetime import timedelta\n",
    "from dateutil.relativedelta import relativedelta\n",
    "\n",
    "from utils import concat_dfs, substituir_cod_municipio\n"
   ]
  },
  {
   "cell_type": "markdown",
   "metadata": {},
   "source": [
    "### Importando datasets files"
   ]
  },
  {
   "cell_type": "code",
   "execution_count": 2,
   "metadata": {},
   "outputs": [],
   "source": [
    "data_type = \"files\"  # files ou api\n",
    "\n",
    "auxilio_emergencial = concat_dfs(\n",
    "    f\"parsed_data/auxilio_emergencial/{data_type}\"\n",
    ")\n",
    "\n",
    "bolsa_familia = concat_dfs(f\"parsed_data/bolsa_familia/{data_type}\")\n",
    "\n",
    "suicidios = pd.read_csv(\"parsed_data/suicidios/suicidios.csv\")\n",
    "suicidios[\"date\"] = pd.to_datetime(suicidios[\"date\"])\n",
    "suicidios[\"municipio_ibge\"] = suicidios[\"municipio_ibge\"].astype(float)\n",
    "\n",
    "populacao = pd.read_csv('parsed_data/municipios/populacao.csv')"
   ]
  },
  {
   "cell_type": "markdown",
   "metadata": {},
   "source": [
    "### Bolsa Família"
   ]
  },
  {
   "cell_type": "code",
   "execution_count": 3,
   "metadata": {},
   "outputs": [
    {
     "data": {
      "text/html": [
       "<div>\n",
       "<style scoped>\n",
       "    .dataframe tbody tr th:only-of-type {\n",
       "        vertical-align: middle;\n",
       "    }\n",
       "\n",
       "    .dataframe tbody tr th {\n",
       "        vertical-align: top;\n",
       "    }\n",
       "\n",
       "    .dataframe thead th {\n",
       "        text-align: right;\n",
       "    }\n",
       "</style>\n",
       "<table border=\"1\" class=\"dataframe\">\n",
       "  <thead>\n",
       "    <tr style=\"text-align: right;\">\n",
       "      <th></th>\n",
       "      <th>municipio_siafi</th>\n",
       "      <th>contagem</th>\n",
       "      <th>soma</th>\n",
       "      <th>date</th>\n",
       "    </tr>\n",
       "  </thead>\n",
       "  <tbody>\n",
       "    <tr>\n",
       "      <th>0</th>\n",
       "      <td>105</td>\n",
       "      <td>3336.0</td>\n",
       "      <td>664577.0</td>\n",
       "      <td>2020-11-01</td>\n",
       "    </tr>\n",
       "    <tr>\n",
       "      <th>1</th>\n",
       "      <td>107</td>\n",
       "      <td>10146.0</td>\n",
       "      <td>3369814.0</td>\n",
       "      <td>2020-11-01</td>\n",
       "    </tr>\n",
       "    <tr>\n",
       "      <th>2</th>\n",
       "      <td>109</td>\n",
       "      <td>3192.0</td>\n",
       "      <td>1092459.0</td>\n",
       "      <td>2020-11-01</td>\n",
       "    </tr>\n",
       "    <tr>\n",
       "      <th>3</th>\n",
       "      <td>113</td>\n",
       "      <td>4887.0</td>\n",
       "      <td>1464602.0</td>\n",
       "      <td>2020-11-01</td>\n",
       "    </tr>\n",
       "    <tr>\n",
       "      <th>4</th>\n",
       "      <td>139</td>\n",
       "      <td>25115.0</td>\n",
       "      <td>5789345.0</td>\n",
       "      <td>2020-11-01</td>\n",
       "    </tr>\n",
       "  </tbody>\n",
       "</table>\n",
       "</div>"
      ],
      "text/plain": [
       "   municipio_siafi  contagem       soma       date\n",
       "0              105    3336.0   664577.0 2020-11-01\n",
       "1              107   10146.0  3369814.0 2020-11-01\n",
       "2              109    3192.0  1092459.0 2020-11-01\n",
       "3              113    4887.0  1464602.0 2020-11-01\n",
       "4              139   25115.0  5789345.0 2020-11-01"
      ]
     },
     "execution_count": 3,
     "metadata": {},
     "output_type": "execute_result"
    }
   ],
   "source": [
    "bolsa_familia.head(5)"
   ]
  },
  {
   "cell_type": "markdown",
   "metadata": {},
   "source": [
    "#### Colunas"
   ]
  },
  {
   "cell_type": "code",
   "execution_count": 4,
   "metadata": {},
   "outputs": [
    {
     "name": "stdout",
     "output_type": "stream",
     "text": [
      "Colunas: 4\n",
      "municipio_siafi | contagem | soma | date\n"
     ]
    }
   ],
   "source": [
    "n_colunas = bolsa_familia.shape[1]\n",
    "colunas = bolsa_familia.columns\n",
    "\n",
    "print(\"Colunas:\", n_colunas)\n",
    "print(*colunas, sep=\" | \")"
   ]
  },
  {
   "cell_type": "markdown",
   "metadata": {},
   "source": [
    "#### Quantidade de municípios"
   ]
  },
  {
   "cell_type": "code",
   "execution_count": 5,
   "metadata": {},
   "outputs": [
    {
     "name": "stdout",
     "output_type": "stream",
     "text": [
      "Quantidade municípios: 5570\n"
     ]
    }
   ],
   "source": [
    "n_municipios = len(bolsa_familia['municipio_siafi'].unique())\n",
    "print('Quantidade municípios:', n_municipios)"
   ]
  },
  {
   "cell_type": "markdown",
   "metadata": {},
   "source": [
    "#### Meses"
   ]
  },
  {
   "cell_type": "code",
   "execution_count": 6,
   "metadata": {},
   "outputs": [
    {
     "name": "stdout",
     "output_type": "stream",
     "text": [
      "Data inicial: 2019-08-01 00:00:00\n",
      "Data final: 2021-10-01 00:00:00\n",
      "Quantidade meses: 27\n"
     ]
    }
   ],
   "source": [
    "start_date = bolsa_familia['date'].min()\n",
    "end_date = bolsa_familia['date'].max()\n",
    "\n",
    "n_meses = (end_date.to_period(\"M\") - start_date.to_period('M')).n + 1\n",
    "\n",
    "print(\"Data inicial:\", start_date)\n",
    "print(\"Data final:\", end_date)\n",
    "print(\"Quantidade meses:\", n_meses)"
   ]
  },
  {
   "cell_type": "markdown",
   "metadata": {},
   "source": [
    "#### Tamanho da amostra"
   ]
  },
  {
   "cell_type": "code",
   "execution_count": 7,
   "metadata": {},
   "outputs": [
    {
     "name": "stdout",
     "output_type": "stream",
     "text": [
      "Tamanho da amostra: 150390\n",
      "Meses x Qtd. Municípios: 150390\n"
     ]
    }
   ],
   "source": [
    "amostra_size = bolsa_familia.shape[0]\n",
    "print(\"Tamanho da amostra:\", amostra_size)\n",
    "print(\"Meses x Qtd. Municípios:\", n_meses * n_municipios)"
   ]
  },
  {
   "cell_type": "markdown",
   "metadata": {},
   "source": [
    "Ou seja, todos os municípios receberam o bolsa família durante todo o período."
   ]
  },
  {
   "cell_type": "markdown",
   "metadata": {},
   "source": [
    "#### Dados faltantes e outliers"
   ]
  },
  {
   "cell_type": "code",
   "execution_count": 8,
   "metadata": {},
   "outputs": [
    {
     "data": {
      "text/plain": [
       "municipio_siafi    0\n",
       "contagem           0\n",
       "soma               0\n",
       "date               0\n",
       "dtype: int64"
      ]
     },
     "execution_count": 8,
     "metadata": {},
     "output_type": "execute_result"
    }
   ],
   "source": [
    "bolsa_familia.isna().sum()"
   ]
  },
  {
   "cell_type": "code",
   "execution_count": 9,
   "metadata": {},
   "outputs": [
    {
     "data": {
      "text/plain": [
       "<AxesSubplot: xlabel='contagem'>"
      ]
     },
     "execution_count": 9,
     "metadata": {},
     "output_type": "execute_result"
    },
    {
     "data": {
      "image/png": "[encoded data removed]",
      "text/plain": [
       "<Figure size 640x480 with 1 Axes>"
      ]
     },
     "metadata": {},
     "output_type": "display_data"
    }
   ],
   "source": [
    "sns.violinplot(data=bolsa_familia, x='contagem')"
   ]
  },
  {
   "cell_type": "code",
   "execution_count": 10,
   "metadata": {},
   "outputs": [
    {
     "data": {
      "text/plain": [
       "<AxesSubplot: xlabel='soma'>"
      ]
     },
     "execution_count": 10,
     "metadata": {},
     "output_type": "execute_result"
    },
    {
     "data": {
      "image/png": "[encoded data removed]",
      "text/plain": [
       "<Figure size 640x480 with 1 Axes>"
      ]
     },
     "metadata": {},
     "output_type": "display_data"
    }
   ],
   "source": [
    "sns.violinplot(data=bolsa_familia, x='soma')"
   ]
  },
  {
   "cell_type": "markdown",
   "metadata": {},
   "source": [
    "#### Checagem de-para municípios"
   ]
  },
  {
   "cell_type": "code",
   "execution_count": 11,
   "metadata": {},
   "outputs": [
    {
     "data": {
      "text/plain": [
       "5570"
      ]
     },
     "execution_count": 11,
     "metadata": {},
     "output_type": "execute_result"
    }
   ],
   "source": [
    "len(bolsa_familia['municipio_siafi'].unique())"
   ]
  },
  {
   "cell_type": "code",
   "execution_count": 12,
   "metadata": {},
   "outputs": [],
   "source": [
    "bolsa_familia = substituir_cod_municipio(bolsa_familia)"
   ]
  },
  {
   "cell_type": "code",
   "execution_count": 13,
   "metadata": {},
   "outputs": [
    {
     "data": {
      "text/plain": [
       "5570"
      ]
     },
     "execution_count": 13,
     "metadata": {},
     "output_type": "execute_result"
    }
   ],
   "source": [
    "len(bolsa_familia['municipio_ibge'].unique())"
   ]
  },
  {
   "cell_type": "markdown",
   "metadata": {},
   "source": [
    "### Auxílio Emergencial"
   ]
  },
  {
   "cell_type": "code",
   "execution_count": 14,
   "metadata": {},
   "outputs": [
    {
     "data": {
      "text/html": [
       "<div>\n",
       "<style scoped>\n",
       "    .dataframe tbody tr th:only-of-type {\n",
       "        vertical-align: middle;\n",
       "    }\n",
       "\n",
       "    .dataframe tbody tr th {\n",
       "        vertical-align: top;\n",
       "    }\n",
       "\n",
       "    .dataframe thead th {\n",
       "        text-align: right;\n",
       "    }\n",
       "</style>\n",
       "<table border=\"1\" class=\"dataframe\">\n",
       "  <thead>\n",
       "    <tr style=\"text-align: right;\">\n",
       "      <th></th>\n",
       "      <th>municipio_ibge</th>\n",
       "      <th>soma</th>\n",
       "      <th>contagem</th>\n",
       "      <th>date</th>\n",
       "    </tr>\n",
       "  </thead>\n",
       "  <tbody>\n",
       "    <tr>\n",
       "      <th>0</th>\n",
       "      <td>1100106.0</td>\n",
       "      <td>1200.0</td>\n",
       "      <td>1.0</td>\n",
       "      <td>2022-05-01</td>\n",
       "    </tr>\n",
       "    <tr>\n",
       "      <th>1</th>\n",
       "      <td>1100122.0</td>\n",
       "      <td>2400.0</td>\n",
       "      <td>1.0</td>\n",
       "      <td>2022-05-01</td>\n",
       "    </tr>\n",
       "    <tr>\n",
       "      <th>2</th>\n",
       "      <td>1100130.0</td>\n",
       "      <td>1800.0</td>\n",
       "      <td>1.0</td>\n",
       "      <td>2022-05-01</td>\n",
       "    </tr>\n",
       "    <tr>\n",
       "      <th>3</th>\n",
       "      <td>1100155.0</td>\n",
       "      <td>2400.0</td>\n",
       "      <td>1.0</td>\n",
       "      <td>2022-05-01</td>\n",
       "    </tr>\n",
       "    <tr>\n",
       "      <th>4</th>\n",
       "      <td>1100205.0</td>\n",
       "      <td>20075.0</td>\n",
       "      <td>9.0</td>\n",
       "      <td>2022-05-01</td>\n",
       "    </tr>\n",
       "  </tbody>\n",
       "</table>\n",
       "</div>"
      ],
      "text/plain": [
       "   municipio_ibge     soma  contagem       date\n",
       "0       1100106.0   1200.0       1.0 2022-05-01\n",
       "1       1100122.0   2400.0       1.0 2022-05-01\n",
       "2       1100130.0   1800.0       1.0 2022-05-01\n",
       "3       1100155.0   2400.0       1.0 2022-05-01\n",
       "4       1100205.0  20075.0       9.0 2022-05-01"
      ]
     },
     "execution_count": 14,
     "metadata": {},
     "output_type": "execute_result"
    }
   ],
   "source": [
    "auxilio_emergencial.head()"
   ]
  },
  {
   "cell_type": "code",
   "execution_count": 15,
   "metadata": {},
   "outputs": [
    {
     "name": "stdout",
     "output_type": "stream",
     "text": [
      "Colunas: 4\n",
      "municipio_ibge | soma | contagem | date\n"
     ]
    }
   ],
   "source": [
    "n_colunas = auxilio_emergencial.shape[1]\n",
    "colunas = auxilio_emergencial.columns\n",
    "\n",
    "print(\"Colunas:\", n_colunas)\n",
    "print(*colunas, sep=\" | \")"
   ]
  },
  {
   "cell_type": "code",
   "execution_count": 16,
   "metadata": {},
   "outputs": [
    {
     "name": "stdout",
     "output_type": "stream",
     "text": [
      "Quantidade municípios: 5572\n"
     ]
    }
   ],
   "source": [
    "n_municipios = len(auxilio_emergencial['municipio_ibge'].unique())\n",
    "print('Quantidade municípios:', n_municipios)"
   ]
  },
  {
   "cell_type": "markdown",
   "metadata": {},
   "source": [
    "A principio 2 municípios a mais que dados do bolsa família. Entretanto, note que se trata do valor zero e do valor vazio, logo ambas as amostras possuem a mesma quantidade de municípios e não precisamos nos preocupar:"
   ]
  },
  {
   "cell_type": "code",
   "execution_count": 17,
   "metadata": {},
   "outputs": [
    {
     "data": {
      "text/plain": [
       "{0.0, nan}"
      ]
     },
     "execution_count": 17,
     "metadata": {},
     "output_type": "execute_result"
    }
   ],
   "source": [
    "municipios_ae = set(auxilio_emergencial['municipio_ibge'].unique())\n",
    "municipios_bf = set(bolsa_familia['municipio_ibge'].unique())\n",
    "\n",
    "municipios_ae.difference(municipios_bf)"
   ]
  },
  {
   "cell_type": "markdown",
   "metadata": {},
   "source": [
    "#### Meses"
   ]
  },
  {
   "cell_type": "code",
   "execution_count": 18,
   "metadata": {},
   "outputs": [
    {
     "name": "stdout",
     "output_type": "stream",
     "text": [
      "Data inicial: 2020-04-01 00:00:00\n",
      "Data final: 2022-06-01 00:00:00\n",
      "Quantidade meses: 27\n"
     ]
    }
   ],
   "source": [
    "start_date = auxilio_emergencial['date'].min()\n",
    "end_date = auxilio_emergencial['date'].max()\n",
    "\n",
    "n_meses = (end_date.to_period(\"M\") - start_date.to_period('M')).n + 1\n",
    "\n",
    "print('Data inicial:', start_date)\n",
    "print('Data final:', end_date)\n",
    "print(\"Quantidade meses:\", n_meses)"
   ]
  },
  {
   "cell_type": "markdown",
   "metadata": {},
   "source": [
    "Note que a data inicial do AE (2020-04) é superior à data inicial da amostra do BF (2019-08). Por outro lado, a amostra do BF termina antes, em (2021-10), ao passo que o AE termina depois em (2022-06). Isso se deve ao fato do programa Bolsa Família ter sido substituído pelo programa Auxílio Brasil em 2021-11."
   ]
  },
  {
   "cell_type": "markdown",
   "metadata": {},
   "source": [
    "#### Tamanho da amostra"
   ]
  },
  {
   "cell_type": "code",
   "execution_count": 19,
   "metadata": {},
   "outputs": [
    {
     "name": "stdout",
     "output_type": "stream",
     "text": [
      "Tamanho da amostra: 114052\n",
      "Meses x Qtd. Municípios: 150444\n"
     ]
    }
   ],
   "source": [
    "amostra_size = auxilio_emergencial.shape[0]\n",
    "print(\"Tamanho da amostra:\", amostra_size)\n",
    "print(\"Meses x Qtd. Municípios:\", n_meses * n_municipios)"
   ]
  },
  {
   "cell_type": "markdown",
   "metadata": {},
   "source": [
    "Nota-se, portanto, que nem todos os municípios receberam auxílio emergencial ao longo do período 2020.04 - 2022.06.  \n",
    "Abaixo uma análise da quantidade de municípios (do total) que não receberam auxílio."
   ]
  },
  {
   "cell_type": "code",
   "execution_count": 20,
   "metadata": {},
   "outputs": [
    {
     "data": {
      "text/plain": [
       "<AxesSubplot: ylabel='date'>"
      ]
     },
     "execution_count": 20,
     "metadata": {},
     "output_type": "execute_result"
    },
    {
     "data": {
      "image/png": "[encoded data removed]",
      "text/plain": [
       "<Figure size 640x480 with 1 Axes>"
      ]
     },
     "metadata": {},
     "output_type": "display_data"
    }
   ],
   "source": [
    "municipios_beneficiados_ae = auxilio_emergencial.groupby('date')['municipio_ibge'].nunique()\n",
    "\n",
    "sns.barplot(y = municipios_beneficiados_ae.index, x=municipios_beneficiados_ae.values, orient='h')"
   ]
  },
  {
   "cell_type": "markdown",
   "metadata": {},
   "source": [
    "Por que?"
   ]
  },
  {
   "cell_type": "markdown",
   "metadata": {},
   "source": [
    "#### Dados faltantes e outliers"
   ]
  },
  {
   "cell_type": "code",
   "execution_count": 21,
   "metadata": {},
   "outputs": [
    {
     "data": {
      "text/plain": [
       "municipio_ibge    2\n",
       "soma              0\n",
       "contagem          0\n",
       "date              0\n",
       "dtype: int64"
      ]
     },
     "execution_count": 21,
     "metadata": {},
     "output_type": "execute_result"
    }
   ],
   "source": [
    "auxilio_emergencial.isna().sum()"
   ]
  },
  {
   "cell_type": "code",
   "execution_count": 22,
   "metadata": {},
   "outputs": [
    {
     "data": {
      "text/html": [
       "<div>\n",
       "<style scoped>\n",
       "    .dataframe tbody tr th:only-of-type {\n",
       "        vertical-align: middle;\n",
       "    }\n",
       "\n",
       "    .dataframe tbody tr th {\n",
       "        vertical-align: top;\n",
       "    }\n",
       "\n",
       "    .dataframe thead th {\n",
       "        text-align: right;\n",
       "    }\n",
       "</style>\n",
       "<table border=\"1\" class=\"dataframe\">\n",
       "  <thead>\n",
       "    <tr style=\"text-align: right;\">\n",
       "      <th></th>\n",
       "      <th>municipio_ibge</th>\n",
       "      <th>soma</th>\n",
       "      <th>contagem</th>\n",
       "      <th>date</th>\n",
       "    </tr>\n",
       "  </thead>\n",
       "  <tbody>\n",
       "    <tr>\n",
       "      <th>18389</th>\n",
       "      <td>NaN</td>\n",
       "      <td>2400.0</td>\n",
       "      <td>1.0</td>\n",
       "      <td>2021-11-01</td>\n",
       "    </tr>\n",
       "    <tr>\n",
       "      <th>54640</th>\n",
       "      <td>NaN</td>\n",
       "      <td>11400.0</td>\n",
       "      <td>2.0</td>\n",
       "      <td>2021-03-01</td>\n",
       "    </tr>\n",
       "  </tbody>\n",
       "</table>\n",
       "</div>"
      ],
      "text/plain": [
       "       municipio_ibge     soma  contagem       date\n",
       "18389             NaN   2400.0       1.0 2021-11-01\n",
       "54640             NaN  11400.0       2.0 2021-03-01"
      ]
     },
     "execution_count": 22,
     "metadata": {},
     "output_type": "execute_result"
    }
   ],
   "source": [
    "auxilio_emergencial[auxilio_emergencial['municipio_ibge'].isna()]"
   ]
  },
  {
   "cell_type": "code",
   "execution_count": 23,
   "metadata": {},
   "outputs": [
    {
     "data": {
      "text/plain": [
       "<AxesSubplot: xlabel='contagem'>"
      ]
     },
     "execution_count": 23,
     "metadata": {},
     "output_type": "execute_result"
    },
    {
     "data": {
      "image/png": "[encoded data removed]",
      "text/plain": [
       "<Figure size 640x480 with 1 Axes>"
      ]
     },
     "metadata": {},
     "output_type": "display_data"
    }
   ],
   "source": [
    "sns.violinplot(data=auxilio_emergencial, x='contagem')"
   ]
  },
  {
   "cell_type": "code",
   "execution_count": 24,
   "metadata": {},
   "outputs": [
    {
     "name": "stdout",
     "output_type": "stream",
     "text": [
      "Contagem max: 2675721.0\n",
      "Contagem min: 1.0\n"
     ]
    }
   ],
   "source": [
    "contagem_max = auxilio_emergencial['contagem'].max()\n",
    "contagem_min = auxilio_emergencial['contagem'].min()\n",
    "\n",
    "print(\"Contagem max:\", contagem_max)\n",
    "print(\"Contagem min:\", contagem_min)"
   ]
  },
  {
   "cell_type": "code",
   "execution_count": 25,
   "metadata": {},
   "outputs": [
    {
     "data": {
      "text/html": [
       "<div>\n",
       "<style scoped>\n",
       "    .dataframe tbody tr th:only-of-type {\n",
       "        vertical-align: middle;\n",
       "    }\n",
       "\n",
       "    .dataframe tbody tr th {\n",
       "        vertical-align: top;\n",
       "    }\n",
       "\n",
       "    .dataframe thead th {\n",
       "        text-align: right;\n",
       "    }\n",
       "</style>\n",
       "<table border=\"1\" class=\"dataframe\">\n",
       "  <thead>\n",
       "    <tr style=\"text-align: right;\">\n",
       "      <th></th>\n",
       "      <th>municipio_ibge</th>\n",
       "      <th>soma</th>\n",
       "      <th>contagem</th>\n",
       "      <th>date</th>\n",
       "    </tr>\n",
       "  </thead>\n",
       "  <tbody>\n",
       "    <tr>\n",
       "      <th>76709</th>\n",
       "      <td>3550308.0</td>\n",
       "      <td>1.868747e+09</td>\n",
       "      <td>2675721.0</td>\n",
       "      <td>2020-09-01</td>\n",
       "    </tr>\n",
       "  </tbody>\n",
       "</table>\n",
       "</div>"
      ],
      "text/plain": [
       "       municipio_ibge          soma   contagem       date\n",
       "76709       3550308.0  1.868747e+09  2675721.0 2020-09-01"
      ]
     },
     "execution_count": 25,
     "metadata": {},
     "output_type": "execute_result"
    }
   ],
   "source": [
    "auxilio_emergencial[auxilio_emergencial['contagem'] == contagem_max]"
   ]
  },
  {
   "cell_type": "code",
   "execution_count": 26,
   "metadata": {},
   "outputs": [
    {
     "data": {
      "text/plain": [
       "<AxesSubplot: xlabel='soma'>"
      ]
     },
     "execution_count": 26,
     "metadata": {},
     "output_type": "execute_result"
    },
    {
     "data": {
      "image/png": "[encoded data removed]",
      "text/plain": [
       "<Figure size 640x480 with 1 Axes>"
      ]
     },
     "metadata": {},
     "output_type": "display_data"
    }
   ],
   "source": [
    "sns.violinplot(data=auxilio_emergencial, x='soma')"
   ]
  },
  {
   "cell_type": "markdown",
   "metadata": {},
   "source": [
    "### Suicídios"
   ]
  },
  {
   "cell_type": "code",
   "execution_count": 28,
   "metadata": {},
   "outputs": [
    {
     "data": {
      "text/html": [
       "<div>\n",
       "<style scoped>\n",
       "    .dataframe tbody tr th:only-of-type {\n",
       "        vertical-align: middle;\n",
       "    }\n",
       "\n",
       "    .dataframe tbody tr th {\n",
       "        vertical-align: top;\n",
       "    }\n",
       "\n",
       "    .dataframe thead th {\n",
       "        text-align: right;\n",
       "    }\n",
       "</style>\n",
       "<table border=\"1\" class=\"dataframe\">\n",
       "  <thead>\n",
       "    <tr style=\"text-align: right;\">\n",
       "      <th></th>\n",
       "      <th>date</th>\n",
       "      <th>municipio_ibge</th>\n",
       "      <th>suicidios</th>\n",
       "      <th>obitos_totais</th>\n",
       "      <th>taxa_suicidio</th>\n",
       "    </tr>\n",
       "  </thead>\n",
       "  <tbody>\n",
       "    <tr>\n",
       "      <th>0</th>\n",
       "      <td>2019-01-01</td>\n",
       "      <td>1100023.0</td>\n",
       "      <td>1</td>\n",
       "      <td>43</td>\n",
       "      <td>0.023256</td>\n",
       "    </tr>\n",
       "    <tr>\n",
       "      <th>1</th>\n",
       "      <td>2019-01-01</td>\n",
       "      <td>1100049.0</td>\n",
       "      <td>1</td>\n",
       "      <td>48</td>\n",
       "      <td>0.020833</td>\n",
       "    </tr>\n",
       "    <tr>\n",
       "      <th>2</th>\n",
       "      <td>2019-01-01</td>\n",
       "      <td>1100064.0</td>\n",
       "      <td>1</td>\n",
       "      <td>6</td>\n",
       "      <td>0.166667</td>\n",
       "    </tr>\n",
       "    <tr>\n",
       "      <th>3</th>\n",
       "      <td>2019-01-01</td>\n",
       "      <td>1100122.0</td>\n",
       "      <td>1</td>\n",
       "      <td>58</td>\n",
       "      <td>0.017241</td>\n",
       "    </tr>\n",
       "    <tr>\n",
       "      <th>4</th>\n",
       "      <td>2019-01-01</td>\n",
       "      <td>1100205.0</td>\n",
       "      <td>3</td>\n",
       "      <td>184</td>\n",
       "      <td>0.016304</td>\n",
       "    </tr>\n",
       "  </tbody>\n",
       "</table>\n",
       "</div>"
      ],
      "text/plain": [
       "        date  municipio_ibge  suicidios  obitos_totais  taxa_suicidio\n",
       "0 2019-01-01       1100023.0          1             43       0.023256\n",
       "1 2019-01-01       1100049.0          1             48       0.020833\n",
       "2 2019-01-01       1100064.0          1              6       0.166667\n",
       "3 2019-01-01       1100122.0          1             58       0.017241\n",
       "4 2019-01-01       1100205.0          3            184       0.016304"
      ]
     },
     "execution_count": 28,
     "metadata": {},
     "output_type": "execute_result"
    }
   ],
   "source": [
    "suicidios.head()"
   ]
  },
  {
   "cell_type": "code",
   "execution_count": 31,
   "metadata": {},
   "outputs": [
    {
     "name": "stdout",
     "output_type": "stream",
     "text": [
      "Colunas: 5\n",
      "date | municipio_ibge | suicidios | obitos_totais | taxa_suicidio\n"
     ]
    }
   ],
   "source": [
    "n_colunas = suicidios.shape[1]\n",
    "colunas = suicidios.columns\n",
    "\n",
    "print(\"Colunas:\", n_colunas)\n",
    "print(*colunas, sep=\" | \")"
   ]
  },
  {
   "cell_type": "code",
   "execution_count": 34,
   "metadata": {},
   "outputs": [
    {
     "name": "stdout",
     "output_type": "stream",
     "text": [
      "Quantidade municípios: 4234\n"
     ]
    }
   ],
   "source": [
    "n_municipios = len(suicidios['municipio_ibge'].unique())\n",
    "print('Quantidade municípios:', n_municipios)"
   ]
  },
  {
   "cell_type": "code",
   "execution_count": 36,
   "metadata": {},
   "outputs": [
    {
     "name": "stdout",
     "output_type": "stream",
     "text": [
      "Data inicial: 2019-01-01 00:00:00\n",
      "Data final: 2020-12-01 00:00:00\n",
      "Quantidade meses: 24\n"
     ]
    }
   ],
   "source": [
    "start_date = suicidios['date'].min()\n",
    "end_date = suicidios['date'].max()\n",
    "\n",
    "n_meses = (end_date.to_period(\"M\") - start_date.to_period('M')).n + 1\n",
    "\n",
    "print(\"Data inicial:\", start_date)\n",
    "print(\"Data final:\", end_date)\n",
    "print(\"Quantidade meses:\", n_meses)"
   ]
  },
  {
   "cell_type": "code",
   "execution_count": 37,
   "metadata": {},
   "outputs": [
    {
     "name": "stdout",
     "output_type": "stream",
     "text": [
      "Tamanho da amostra: 17733\n",
      "Meses x Qtd. Municípios: 101616\n"
     ]
    }
   ],
   "source": [
    "amostra_size = suicidios.shape[0]\n",
    "print(\"Tamanho da amostra:\", amostra_size)\n",
    "print(\"Meses x Qtd. Municípios:\", n_meses * n_municipios)"
   ]
  },
  {
   "cell_type": "markdown",
   "metadata": {},
   "source": [
    "Nota-se, portanto, que há muitos municípios com dados faltantes. Isso é esperado já que não necessariamente há suicídios ou óbitos em todos os municípios todos os meses."
   ]
  },
  {
   "cell_type": "code",
   "execution_count": 39,
   "metadata": {},
   "outputs": [
    {
     "data": {
      "text/plain": [
       "date              0\n",
       "municipio_ibge    0\n",
       "suicidios         0\n",
       "obitos_totais     0\n",
       "taxa_suicidio     0\n",
       "dtype: int64"
      ]
     },
     "execution_count": 39,
     "metadata": {},
     "output_type": "execute_result"
    }
   ],
   "source": [
    "suicidios.isna().sum()"
   ]
  },
  {
   "cell_type": "code",
   "execution_count": 40,
   "metadata": {},
   "outputs": [
    {
     "data": {
      "text/plain": [
       "<AxesSubplot: xlabel='suicidios'>"
      ]
     },
     "execution_count": 40,
     "metadata": {},
     "output_type": "execute_result"
    },
    {
     "data": {
      "image/png": "[encoded data removed]",
      "text/plain": [
       "<Figure size 640x480 with 1 Axes>"
      ]
     },
     "metadata": {},
     "output_type": "display_data"
    }
   ],
   "source": [
    "sns.violinplot(data=suicidios, x='suicidios')"
   ]
  },
  {
   "cell_type": "code",
   "execution_count": 41,
   "metadata": {},
   "outputs": [
    {
     "data": {
      "text/html": [
       "<div>\n",
       "<style scoped>\n",
       "    .dataframe tbody tr th:only-of-type {\n",
       "        vertical-align: middle;\n",
       "    }\n",
       "\n",
       "    .dataframe tbody tr th {\n",
       "        vertical-align: top;\n",
       "    }\n",
       "\n",
       "    .dataframe thead th {\n",
       "        text-align: right;\n",
       "    }\n",
       "</style>\n",
       "<table border=\"1\" class=\"dataframe\">\n",
       "  <thead>\n",
       "    <tr style=\"text-align: right;\">\n",
       "      <th></th>\n",
       "      <th>date</th>\n",
       "      <th>municipio_ibge</th>\n",
       "      <th>suicidios</th>\n",
       "      <th>obitos_totais</th>\n",
       "      <th>taxa_suicidio</th>\n",
       "    </tr>\n",
       "  </thead>\n",
       "  <tbody>\n",
       "    <tr>\n",
       "      <th>0</th>\n",
       "      <td>2019-01-01</td>\n",
       "      <td>1100023.0</td>\n",
       "      <td>1</td>\n",
       "      <td>43</td>\n",
       "      <td>0.023256</td>\n",
       "    </tr>\n",
       "    <tr>\n",
       "      <th>15305</th>\n",
       "      <td>2020-09-01</td>\n",
       "      <td>4306304.0</td>\n",
       "      <td>1</td>\n",
       "      <td>1</td>\n",
       "      <td>1.000000</td>\n",
       "    </tr>\n",
       "    <tr>\n",
       "      <th>9260</th>\n",
       "      <td>2020-01-01</td>\n",
       "      <td>3503901.0</td>\n",
       "      <td>1</td>\n",
       "      <td>37</td>\n",
       "      <td>0.027027</td>\n",
       "    </tr>\n",
       "    <tr>\n",
       "      <th>15304</th>\n",
       "      <td>2020-09-01</td>\n",
       "      <td>4306072.0</td>\n",
       "      <td>1</td>\n",
       "      <td>1</td>\n",
       "      <td>1.000000</td>\n",
       "    </tr>\n",
       "    <tr>\n",
       "      <th>9262</th>\n",
       "      <td>2020-01-01</td>\n",
       "      <td>3504503.0</td>\n",
       "      <td>1</td>\n",
       "      <td>72</td>\n",
       "      <td>0.013889</td>\n",
       "    </tr>\n",
       "    <tr>\n",
       "      <th>...</th>\n",
       "      <td>...</td>\n",
       "      <td>...</td>\n",
       "      <td>...</td>\n",
       "      <td>...</td>\n",
       "      <td>...</td>\n",
       "    </tr>\n",
       "    <tr>\n",
       "      <th>10770</th>\n",
       "      <td>2020-03-01</td>\n",
       "      <td>3304557.0</td>\n",
       "      <td>33</td>\n",
       "      <td>5050</td>\n",
       "      <td>0.006535</td>\n",
       "    </tr>\n",
       "    <tr>\n",
       "      <th>12228</th>\n",
       "      <td>2020-05-01</td>\n",
       "      <td>3304557.0</td>\n",
       "      <td>34</td>\n",
       "      <td>9591</td>\n",
       "      <td>0.003545</td>\n",
       "    </tr>\n",
       "    <tr>\n",
       "      <th>17353</th>\n",
       "      <td>2020-12-01</td>\n",
       "      <td>3304557.0</td>\n",
       "      <td>35</td>\n",
       "      <td>7450</td>\n",
       "      <td>0.004698</td>\n",
       "    </tr>\n",
       "    <tr>\n",
       "      <th>16584</th>\n",
       "      <td>2020-11-01</td>\n",
       "      <td>3304557.0</td>\n",
       "      <td>37</td>\n",
       "      <td>5830</td>\n",
       "      <td>0.006346</td>\n",
       "    </tr>\n",
       "    <tr>\n",
       "      <th>9247</th>\n",
       "      <td>2020-01-01</td>\n",
       "      <td>3304557.0</td>\n",
       "      <td>37</td>\n",
       "      <td>4871</td>\n",
       "      <td>0.007596</td>\n",
       "    </tr>\n",
       "  </tbody>\n",
       "</table>\n",
       "<p>17733 rows × 5 columns</p>\n",
       "</div>"
      ],
      "text/plain": [
       "            date  municipio_ibge  suicidios  obitos_totais  taxa_suicidio\n",
       "0     2019-01-01       1100023.0          1             43       0.023256\n",
       "15305 2020-09-01       4306304.0          1              1       1.000000\n",
       "9260  2020-01-01       3503901.0          1             37       0.027027\n",
       "15304 2020-09-01       4306072.0          1              1       1.000000\n",
       "9262  2020-01-01       3504503.0          1             72       0.013889\n",
       "...          ...             ...        ...            ...            ...\n",
       "10770 2020-03-01       3304557.0         33           5050       0.006535\n",
       "12228 2020-05-01       3304557.0         34           9591       0.003545\n",
       "17353 2020-12-01       3304557.0         35           7450       0.004698\n",
       "16584 2020-11-01       3304557.0         37           5830       0.006346\n",
       "9247  2020-01-01       3304557.0         37           4871       0.007596\n",
       "\n",
       "[17733 rows x 5 columns]"
      ]
     },
     "execution_count": 41,
     "metadata": {},
     "output_type": "execute_result"
    }
   ],
   "source": [
    "suicidios.sort_values('suicidios')"
   ]
  },
  {
   "cell_type": "code",
   "execution_count": 43,
   "metadata": {},
   "outputs": [
    {
     "data": {
      "text/plain": [
       "<AxesSubplot: xlabel='obitos_totais'>"
      ]
     },
     "execution_count": 43,
     "metadata": {},
     "output_type": "execute_result"
    },
    {
     "data": {
      "image/png": "[encoded data removed]",
      "text/plain": [
       "<Figure size 640x480 with 1 Axes>"
      ]
     },
     "metadata": {},
     "output_type": "display_data"
    }
   ],
   "source": [
    "sns.violinplot(data=suicidios, x='obitos_totais')"
   ]
  },
  {
   "cell_type": "code",
   "execution_count": 44,
   "metadata": {},
   "outputs": [
    {
     "data": {
      "text/plain": [
       "<AxesSubplot: xlabel='taxa_suicidio'>"
      ]
     },
     "execution_count": 44,
     "metadata": {},
     "output_type": "execute_result"
    },
    {
     "data": {
      "image/png": "[encoded data removed]",
      "text/plain": [
       "<Figure size 640x480 with 1 Axes>"
      ]
     },
     "metadata": {},
     "output_type": "display_data"
    }
   ],
   "source": [
    "sns.violinplot(data=suicidios, x='taxa_suicidio')"
   ]
  },
  {
   "cell_type": "markdown",
   "metadata": {},
   "source": [
    "Vamos preencher com zero a taxa de suicídio dos municípios nas datas faltantes."
   ]
  },
  {
   "cell_type": "code",
   "execution_count": null,
   "metadata": {},
   "outputs": [],
   "source": [
    "suicidios"
   ]
  },
  {
   "cell_type": "markdown",
   "metadata": {},
   "source": [
    "### Conclusões\n",
    "\n",
    "1. Pequena quantidade de valores faltantes em AE.\n",
    "    - Solução: dropar (?), ignorar (?)\n",
    "2. Qual período usar?\n",
    "    - data inicio do dataset suicídios e data fim do bolsa família "
   ]
  },
  {
   "cell_type": "markdown",
   "metadata": {},
   "source": []
  }
 ],
 "metadata": {
  "kernelspec": {
   "display_name": "Python 3.8.10 ('env': venv)",
   "language": "python",
   "name": "python3"
  },
  "language_info": {
   "codemirror_mode": {
    "name": "ipython",
    "version": 3
   },
   "file_extension": ".py",
   "mimetype": "text/x-python",
   "name": "python",
   "nbconvert_exporter": "python",
   "pygments_lexer": "ipython3",
   "version": "3.8.10"
  },
  "orig_nbformat": 4,
  "vscode": {
   "interpreter": {
    "hash": "74ecc8fd3aec51f280785299e87690e61bb7821f3069ae3f92509e7e4de76ad8"
   }
  }
 },
 "nbformat": 4,
 "nbformat_minor": 2
}
