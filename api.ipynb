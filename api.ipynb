{
 "cells": [
  {
   "cell_type": "code",
   "execution_count": 2,
   "metadata": {},
   "outputs": [],
   "source": [
    "import requests\n",
    "import pandas as pd"
   ]
  },
  {
   "cell_type": "code",
   "execution_count": 3,
   "metadata": {},
   "outputs": [],
   "source": [
    "# email = diegolottermann@hotmail.com\n",
    "# chave-api-dados = 313cacb9b1b05b4ae3c80a69bbc9e0c0"
   ]
  },
  {
   "cell_type": "code",
   "execution_count": 4,
   "metadata": {},
   "outputs": [],
   "source": [
    "base_url = \"https://api.portaldatransparencia.gov.br\""
   ]
  },
  {
   "cell_type": "code",
   "execution_count": 10,
   "metadata": {},
   "outputs": [],
   "source": [
    "url = base_url + \"/api-de-dados/auxilio-emergencial-beneficiario-por-municipio\"\n",
    "\n",
    "headers = {\"chave-api-dados\": \"313cacb9b1b05b4ae3c80a69bbc9e0c0\"}\n",
    "\n",
    "params = {\"pagina\": 1, \"codigoIbge\": 1100015, 'mesAno': '202004'}\n",
    "\n",
    "response = requests.get(url, headers=headers, params=params)\n"
   ]
  },
  {
   "cell_type": "code",
   "execution_count": 15,
   "metadata": {},
   "outputs": [],
   "source": [
    "def unique_counties_from_xls(xls_path):\n",
    "    counties = pd.read_excel(xls_path)\n",
    "    unique_counties = counties['Código Município Completo'].unique()\n",
    "    return list(unique_counties)\n",
    "\n",
    "unique_counties = unique_counties_from_xls('data/municipios/RELATORIO_DTB_BRASIL_MUNICIPIO.xls')"
   ]
  }
 ],
 "metadata": {
  "kernelspec": {
   "display_name": "Python 3.8.10 ('env': venv)",
   "language": "python",
   "name": "python3"
  },
  "language_info": {
   "codemirror_mode": {
    "name": "ipython",
    "version": 3
   },
   "file_extension": ".py",
   "mimetype": "text/x-python",
   "name": "python",
   "nbconvert_exporter": "python",
   "pygments_lexer": "ipython3",
   "version": "3.8.10"
  },
  "orig_nbformat": 4,
  "vscode": {
   "interpreter": {
    "hash": "433dbfedbe86ae2f557b1546264acca3e7507ab47f4bee73efad1fb302bf526e"
   }
  }
 },
 "nbformat": 4,
 "nbformat_minor": 2
}
