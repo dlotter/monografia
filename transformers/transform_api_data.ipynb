{
 "cells": [
  {
   "cell_type": "code",
   "execution_count": 1,
   "metadata": {},
   "outputs": [
    {
     "name": "stdout",
     "output_type": "stream",
     "text": [
      "/home/diego/Desktop/monografia\n"
     ]
    }
   ],
   "source": [
    "import pandas as pd\n",
    "import zipfile\n",
    "import os\n",
    "\n",
    "%cd .."
   ]
  },
  {
   "cell_type": "code",
   "execution_count": 2,
   "metadata": {},
   "outputs": [],
   "source": [
    "def transform_api_data(beneficio):\n",
    "\n",
    "    dir_path = f\"raw_data/{beneficio.replace('-', '_')}/api\"\n",
    "    destination_path = f\"parsed_data/{beneficio.replace('-', '_')}/api\"\n",
    "\n",
    "    files = os.listdir(dir_path)\n",
    "\n",
    "    for file in files:\n",
    "        df = pd.read_csv(os.path.join(dir_path, file))\n",
    "        df = df[['municipio', 'quantidadeBeneficiados', 'valor']]\n",
    "        df.columns = ['municipio_ibge','contagem','soma']\n",
    "        df.to_csv(destination_path + '/' + file, index=False)"
   ]
  },
  {
   "cell_type": "code",
   "execution_count": 3,
   "metadata": {},
   "outputs": [],
   "source": [
    "transform_api_data('auxilio-emergencial')\n",
    "transform_api_data('bolsa-familia')"
   ]
  },
  {
   "cell_type": "code",
   "execution_count": null,
   "metadata": {},
   "outputs": [],
   "source": []
  }
 ],
 "metadata": {
  "kernelspec": {
   "display_name": "Python 3.8.10 ('env': venv)",
   "language": "python",
   "name": "python3"
  },
  "language_info": {
   "codemirror_mode": {
    "name": "ipython",
    "version": 3
   },
   "file_extension": ".py",
   "mimetype": "text/x-python",
   "name": "python",
   "nbconvert_exporter": "python",
   "pygments_lexer": "ipython3",
   "version": "3.8.10"
  },
  "orig_nbformat": 4,
  "vscode": {
   "interpreter": {
    "hash": "74ecc8fd3aec51f280785299e87690e61bb7821f3069ae3f92509e7e4de76ad8"
   }
  }
 },
 "nbformat": 4,
 "nbformat_minor": 2
}
