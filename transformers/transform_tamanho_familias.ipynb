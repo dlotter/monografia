{
 "cells": [
  {
   "cell_type": "code",
   "execution_count": 1,
   "metadata": {},
   "outputs": [
    {
     "name": "stdout",
     "output_type": "stream",
     "text": [
      "/home/diego/Desktop/monografia\n"
     ]
    }
   ],
   "source": [
    "import pandas as pd\n",
    "\n",
    "%cd .."
   ]
  },
  {
   "cell_type": "code",
   "execution_count": 2,
   "metadata": {},
   "outputs": [
    {
     "name": "stderr",
     "output_type": "stream",
     "text": [
      "/tmp/ipykernel_486136/2214313193.py:1: DtypeWarning: Columns (23) have mixed types. Specify dtype option on import or set low_memory=False.\n",
      "  df = pd.read_csv('raw_data/tamanho_familias/base_amostra_familia_201812.csv', sep=\";\")\n"
     ]
    }
   ],
   "source": [
    "df = pd.read_csv('raw_data/tamanho_familias/base_amostra_familia_201812.csv', sep=\";\")"
   ]
  },
  {
   "cell_type": "markdown",
   "metadata": {},
   "source": [
    "Queremos calcular o tamanho médio das famílias cadastradas no Cadastro Único por município para usar como estimativa dos beneficiários totais do Auxílio Emergencial."
   ]
  },
  {
   "cell_type": "code",
   "execution_count": 3,
   "metadata": {},
   "outputs": [],
   "source": [
    "colunas_relevantes = ['cd_ibge', 'qtde_pessoas']\n",
    "df = df[colunas_relevantes]"
   ]
  },
  {
   "cell_type": "code",
   "execution_count": 5,
   "metadata": {},
   "outputs": [],
   "source": [
    "tamanho_familias = df.groupby('cd_ibge').mean().reset_index()\n",
    "tamanho_familias.columns = ['municipio_ibge', 'tamanho_medio_familia']"
   ]
  },
  {
   "cell_type": "code",
   "execution_count": 7,
   "metadata": {},
   "outputs": [],
   "source": [
    "tamanho_familias.to_csv('parsed_data/tamanho_familias/tamanho_familias.csv', index=False)"
   ]
  },
  {
   "cell_type": "code",
   "execution_count": null,
   "metadata": {},
   "outputs": [],
   "source": []
  }
 ],
 "metadata": {
  "kernelspec": {
   "display_name": "Python 3.8.10 ('env': venv)",
   "language": "python",
   "name": "python3"
  },
  "language_info": {
   "codemirror_mode": {
    "name": "ipython",
    "version": 3
   },
   "file_extension": ".py",
   "mimetype": "text/x-python",
   "name": "python",
   "nbconvert_exporter": "python",
   "pygments_lexer": "ipython3",
   "version": "3.8.10"
  },
  "orig_nbformat": 4,
  "vscode": {
   "interpreter": {
    "hash": "74ecc8fd3aec51f280785299e87690e61bb7821f3069ae3f92509e7e4de76ad8"
   }
  }
 },
 "nbformat": 4,
 "nbformat_minor": 2
}
