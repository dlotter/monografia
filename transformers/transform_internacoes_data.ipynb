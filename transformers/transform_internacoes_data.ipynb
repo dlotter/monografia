{
 "cells": [
  {
   "cell_type": "code",
   "execution_count": 1,
   "metadata": {},
   "outputs": [
    {
     "name": "stdout",
     "output_type": "stream",
     "text": [
      "/home/diego/Desktop/monografia\n"
     ]
    }
   ],
   "source": [
    "import pandas as pd\n",
    "\n",
    "%cd .."
   ]
  },
  {
   "cell_type": "code",
   "execution_count": 2,
   "metadata": {},
   "outputs": [],
   "source": [
    "internacoes = pd.read_csv(\"raw_data/internacoes/internacoes.csv\")"
   ]
  },
  {
   "cell_type": "code",
   "execution_count": 5,
   "metadata": {},
   "outputs": [],
   "source": [
    "colunas_relevantes = ['Menor 1 ano', '1 a 4 anos', '5 a 9 anos', '10 a 14 anos',\n",
    "       '15 a 19 anos', '20 a 24 anos', '25 a 29 anos', '30 a 34 anos',\n",
    "       '35 a 39 anos', '40 a 44 anos', '45 a 49 anos', '50 a 54 anos',\n",
    "       '55 a 59 anos', '60 a 64 anos', '65 a 69 anos', '70 a 74 anos',\n",
    "       '75 a 79 anos', '80 anos e mais', 'Total', 'municipio_ibge6',\n",
    "       'date', 'total_internacoes_geral']\n",
    "internacoes = internacoes[colunas_relevantes]"
   ]
  },
  {
   "cell_type": "code",
   "execution_count": 7,
   "metadata": {},
   "outputs": [],
   "source": [
    "internacoes = internacoes.rename(columns={'Total': 'total_internacoes_psico'})"
   ]
  },
  {
   "cell_type": "code",
   "execution_count": 10,
   "metadata": {},
   "outputs": [],
   "source": [
    "internacoes.to_csv('parsed_data/internacoes/internacoes.csv', index=False)"
   ]
  },
  {
   "cell_type": "code",
   "execution_count": null,
   "metadata": {},
   "outputs": [],
   "source": []
  }
 ],
 "metadata": {
  "kernelspec": {
   "display_name": "Python 3.8.10 ('env': venv)",
   "language": "python",
   "name": "python3"
  },
  "language_info": {
   "codemirror_mode": {
    "name": "ipython",
    "version": 3
   },
   "file_extension": ".py",
   "mimetype": "text/x-python",
   "name": "python",
   "nbconvert_exporter": "python",
   "pygments_lexer": "ipython3",
   "version": "3.8.10"
  },
  "orig_nbformat": 4,
  "vscode": {
   "interpreter": {
    "hash": "74ecc8fd3aec51f280785299e87690e61bb7821f3069ae3f92509e7e4de76ad8"
   }
  }
 },
 "nbformat": 4,
 "nbformat_minor": 2
}
