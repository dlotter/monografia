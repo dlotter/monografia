{
 "cells": [
  {
   "cell_type": "code",
   "execution_count": 1,
   "metadata": {},
   "outputs": [
    {
     "name": "stdout",
     "output_type": "stream",
     "text": [
      "/home/diego/Desktop/monografia\n"
     ]
    }
   ],
   "source": [
    "from pysus.online_data.SIA import download\n",
    "import pandas as pd\n",
    "import datetime\n",
    "\n",
    "%cd .."
   ]
  },
  {
   "cell_type": "code",
   "execution_count": 2,
   "metadata": {},
   "outputs": [],
   "source": [
    "\n",
    "estados = ['AC', 'AL', 'AP', 'AM', 'BA', 'CE', 'DF', 'ES', 'GO', 'MA', 'MT','MS', 'MG', 'PA', 'PB', 'PR', 'PE', 'PI', 'RJ', 'RN', 'RS', 'RO', 'RR', 'SC','SP', 'SE', 'TO']\n",
    "anos = [2019, 2020]\n",
    "cid10_transtornos = {\n",
    "    \"abusos_substancias\": [f\"F{x}\" for x in range(100, 200)] + [f\"F{x}\" for x in range(10, 20)], \n",
    "    \"t_esquizofrenicos\": [f\"F{x}\" for x in range(200, 210)] + [\"F20\"], \n",
    "    \"t_psicoticos\": [\"F230\",\"F231\",\"F232\", \"F233\", \"F238\", \"F239\"] + [\"F23\",\"F28\",\"F29\"], \n",
    "    \"t_depressao\": [\"F32\",\"F320\",\"F321\", \"F322\", \"F323\", \"F328\", \"F329\", \"F33\", \"F330\", \"F331\", \"F332\", \"F333\", \"F334\", \"F338\", \"F339\"], \n",
    "    \"t_ansiedade\": [\"F41\", \"F410\", \"F411\", \"F412\", \"F413\", \"F418\", \"F419\"], \n",
    "    \"t_estresse\": [\"F43\", \"F430\", \"F431\", \"F432\", \"F438\", \"F439\"],\n",
    "    \"t_comportamentais\": [\"F50\", \"F500\", \"F501\", \"F502\", \"F503\", \"F504\", \"F505\", \"F508\", \"F509\", \"F51\", \"F510\", \"F511\", \"F512\", \"F513\", \"F514\", \"F515\", \"F518\", \"F519\"], \n",
    "}\n"
   ]
  }
 ],
 "metadata": {
  "kernelspec": {
   "display_name": "Python 3.8.10 ('env': venv)",
   "language": "python",
   "name": "python3"
  },
  "language_info": {
   "codemirror_mode": {
    "name": "ipython",
    "version": 3
   },
   "file_extension": ".py",
   "mimetype": "text/x-python",
   "name": "python",
   "nbconvert_exporter": "python",
   "pygments_lexer": "ipython3",
   "version": "3.8.10"
  },
  "orig_nbformat": 4,
  "vscode": {
   "interpreter": {
    "hash": "74ecc8fd3aec51f280785299e87690e61bb7821f3069ae3f92509e7e4de76ad8"
   }
  }
 },
 "nbformat": 4,
 "nbformat_minor": 2
}
