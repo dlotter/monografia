{
 "cells": [
  {
   "cell_type": "markdown",
   "metadata": {},
   "source": [
    "https://medium.com/psicodata/baixando-e-processando-dados-do-datasus-sobre-suic%C3%ADdio-com-python-656afa17f6ad"
   ]
  },
  {
   "cell_type": "code",
   "execution_count": 1,
   "metadata": {},
   "outputs": [],
   "source": [
    "from pysus.online_data.SIM import download\n",
    "import pandas as pd\n",
    "import datetime\n",
    "estados = ['AC', 'AL', 'AP', 'AM', 'BA', 'CE', 'DF', 'ES', 'GO', 'MA', 'MT','MS', 'MG', 'PA', 'PB', 'PR', 'PE', 'PI', 'RJ', 'RN', 'RS', 'RO', 'RR', 'SC','SP', 'SE', 'TO']\n",
    "anos = [2019, 2020]"
   ]
  },
  {
   "cell_type": "code",
   "execution_count": 2,
   "metadata": {},
   "outputs": [
    {
     "name": "stdout",
     "output_type": "stream",
     "text": [
      "Banco de 2019 de AC baixado!\n",
      "Banco de 2019 de AL baixado!\n",
      "Banco de 2019 de AP baixado!\n",
      "Banco de 2019 de AM baixado!\n",
      "Banco de 2019 de BA baixado!\n",
      "Banco de 2019 de CE baixado!\n",
      "Banco de 2019 de DF baixado!\n",
      "Banco de 2019 de ES baixado!\n",
      "Banco de 2019 de GO baixado!\n",
      "Banco de 2019 de MA baixado!\n",
      "Banco de 2019 de MT baixado!\n",
      "Banco de 2019 de MS baixado!\n",
      "Banco de 2019 de MG baixado!\n",
      "Banco de 2019 de PA baixado!\n",
      "Banco de 2019 de PB baixado!\n",
      "Banco de 2019 de PR baixado!\n",
      "Banco de 2019 de PE baixado!\n",
      "Banco de 2019 de PI baixado!\n",
      "Banco de 2019 de RJ baixado!\n",
      "Banco de 2019 de RN baixado!\n",
      "Banco de 2019 de RS baixado!\n",
      "Banco de 2019 de RO baixado!\n",
      "Banco de 2019 de RR baixado!\n",
      "Banco de 2019 de SC baixado!\n",
      "Banco de 2019 de SP baixado!\n",
      "Banco de 2019 de SE baixado!\n",
      "Banco de 2019 de TO baixado!\n",
      "Banco de 2020 de AC baixado!\n",
      "Banco de 2020 de AL baixado!\n",
      "Banco de 2020 de AP baixado!\n",
      "Banco de 2020 de AM baixado!\n",
      "Banco de 2020 de BA baixado!\n",
      "Banco de 2020 de CE baixado!\n",
      "Banco de 2020 de DF baixado!\n",
      "Banco de 2020 de ES baixado!\n",
      "Banco de 2020 de GO baixado!\n",
      "Banco de 2020 de MA baixado!\n",
      "Banco de 2020 de MT baixado!\n",
      "Banco de 2020 de MS baixado!\n",
      "Banco de 2020 de MG baixado!\n",
      "Banco de 2020 de PA baixado!\n",
      "Banco de 2020 de PB baixado!\n",
      "Banco de 2020 de PR baixado!\n",
      "Banco de 2020 de PE baixado!\n",
      "Banco de 2020 de PI baixado!\n",
      "Banco de 2020 de RJ baixado!\n",
      "Banco de 2020 de RN baixado!\n",
      "Banco de 2020 de RS baixado!\n",
      "Banco de 2020 de RO baixado!\n",
      "Banco de 2020 de RR baixado!\n",
      "Banco de 2020 de SC baixado!\n",
      "Banco de 2020 de SP baixado!\n",
      "Banco de 2020 de SE baixado!\n",
      "Banco de 2020 de TO baixado!\n"
     ]
    }
   ],
   "source": [
    "banco = {}\n",
    "for y in anos:\n",
    "    for uf in estados:\n",
    "        banco[uf, y] = download(state=uf, year=y)\n",
    "        print(\"Banco de \" + str(y) + \" de \" + str(uf) + \" baixado!\")"
   ]
  },
  {
   "cell_type": "code",
   "execution_count": 3,
   "metadata": {},
   "outputs": [],
   "source": [
    "todos = pd.concat({k: pd.DataFrame.from_dict(v) for k, v in banco.items()}, axis=0).reset_index()\n",
    "todos = todos[[\n",
    "'level_0', 'level_1', 'CIRCOBITO', 'DTOBITO', 'DTNASC', 'SEXO', 'RACACOR', 'ESTCIV', 'ESC', 'OCUP', 'CODMUNRES', 'LOCOCOR', 'ASSISTMED', 'CAUSABAS', 'CAUSABAS_O'\n",
    "]]\n",
    "todos.rename(columns={'level_0': 'estado', 'level_1': 'ano'}, inplace=True)  # renomeando colunas\n"
   ]
  },
  {
   "cell_type": "code",
   "execution_count": 4,
   "metadata": {},
   "outputs": [],
   "source": [
    "filter_list = [\"X{}\".format(x) for x in range(600, 850)]\n",
    "cid10 = todos[\n",
    "todos['CAUSABAS'].isin(filter_list) | todos['CAUSABAS_O'].isin(filter_list)\n",
    "]"
   ]
  },
  {
   "cell_type": "code",
   "execution_count": 5,
   "metadata": {},
   "outputs": [],
   "source": [
    "dictCIRCOBITO = {\n",
    "'1': 'Acidente',\n",
    "'2': 'Suicídio',\n",
    "'3': 'Homicídio',\n",
    "'4': 'Outro',\n",
    "'0': 'NA',\n",
    "'6': \"NA\",\n",
    "'7': \"NA\",\n",
    "'8': \"NA\",\n",
    "'9': \"NA\"\n",
    "}\n",
    "dicSEXO = {\n",
    "'1': 'Masculino',\n",
    "'2': 'Feminino',\n",
    "'0': 'NA',\n",
    "'9': 'NA'\n",
    "}\n",
    "dicRACACOR = {\n",
    "'1': 'Branca',\n",
    "'2': 'Preta',\n",
    "'3': 'Amarela',\n",
    "'4': 'Parda',\n",
    "'5': 'Indígena',\n",
    "'0': 'NA',\n",
    "'6': \"NA\",\n",
    "'7': \"NA\",\n",
    "'8': \"NA\",\n",
    "'9': \"NA\"\n",
    "}\n",
    "dicESTCIV = {\n",
    "'1': 'Solteiro',\n",
    "'2': 'Casado',\n",
    "'3': 'Viúvo',\n",
    "'4': 'Separado judicialmente',\n",
    "'5': 'União consensual',\n",
    "'0': 'NA',\n",
    "'6': \"NA\",\n",
    "'7': \"NA\",\n",
    "'8': \"NA\",\n",
    "'9': \"NA\"\n",
    "}\n",
    "dicESC = {\n",
    "'1': 'Nenhuma',\n",
    "'2': '1 a 3 anos',\n",
    "'3': '4 a 7 anos',\n",
    "'4': '8 a 11 anos',\n",
    "'5': '12 e mais',\n",
    "'8': 'De 9 a 11 anos',\n",
    "'0': 'NA',\n",
    "'6': 'NA',\n",
    "'7': 'NA',\n",
    "'9': 'NA',\n",
    "'': 'NA'\n",
    "}\n",
    "dictLOCOCOR = {\n",
    "'1': 'Hospital',\n",
    "'2': 'Outro estabelecimento de saúde',\n",
    "'3': 'Domicílio',\n",
    "'4': 'Via pública',\n",
    "'5': 'Outros',\n",
    "'9': 'NA'\n",
    "}\n",
    "dictASSISTMED = {\n",
    "'1': 'Sim',\n",
    "'2': 'Não',\n",
    "'9': 'NA'\n",
    "}\n",
    "cid10 = cid10.replace({'CIRCOBITO': dictCIRCOBITO, 'SEXO': dicSEXO, 'RACACOR': dicRACACOR,'ESTCIV': dicESTCIV, 'ESC': dicESC, 'LOCOCOR': dictLOCOCOR, 'ASSISTMED': dictASSISTMED})\n",
    "cid10['DTNASC'] = cid10['DTNASC'][cid10['DTNASC'] != ''].apply(lambda x: datetime.datetime.strptime(x, \"%d%m%Y\"))\n",
    "cid10['DTOBITO'] = pd.to_datetime(cid10['DTOBITO'], format=\"%d%m%Y\")"
   ]
  },
  {
   "cell_type": "code",
   "execution_count": 6,
   "metadata": {},
   "outputs": [],
   "source": [
    "cid10['idade'] = cid10['DTOBITO'].dt.year - cid10['DTNASC'].dt.year\n",
    "cid10['mes'] = cid10['DTOBITO'].map(lambda x: x.strftime('%m'))"
   ]
  },
  {
   "cell_type": "code",
   "execution_count": 7,
   "metadata": {},
   "outputs": [],
   "source": [
    "CBO2002 = pd.read_csv('CBO.csv').set_index('CODIGO').to_dict()\n",
    "cid10['OCUP'] = cid10['OCUP'].replace('', 0).astype(int)\n",
    "cid10['OCUP'] = cid10['OCUP'].replace(CBO2002['OCUPACAO'])"
   ]
  },
  {
   "cell_type": "code",
   "execution_count": 8,
   "metadata": {},
   "outputs": [
    {
     "name": "stderr",
     "output_type": "stream",
     "text": [
      "/tmp/ipykernel_3462071/366119948.py:2: FutureWarning: The error_bad_lines argument has been deprecated and will be removed in a future version. Use on_bad_lines in the future.\n",
      "\n",
      "\n",
      "  municipios = pd.read_csv(URL, error_bad_lines=False, sep=';', encoding='latin-1', usecols=['IBGE', 'IBGE7']).set_index('IBGE').to_dict()\n"
     ]
    }
   ],
   "source": [
    "URL = 'http://blog.mds.gov.br/redesuas/wp-content/uploads/2018/06/Lista_Munic%C3%ADpios_com_IBGE_Brasil_Versao_CSV.csv'\n",
    "municipios = pd.read_csv(URL, error_bad_lines=False, sep=';', encoding='latin-1', usecols=['IBGE', 'IBGE7']).set_index('IBGE').to_dict()\n",
    "cid10['CODMUNRES'] = cid10['CODMUNRES'].astype(int).replace(municipios['IBGE7'])"
   ]
  },
  {
   "cell_type": "code",
   "execution_count": 9,
   "metadata": {},
   "outputs": [],
   "source": [
    "todos.drop(['ano', 'estado', 'CIRCOBITO', 'DTNASC', 'SEXO', 'RACACOR', 'ESTCIV', 'ESC', 'OCUP', 'LOCOCOR', 'ASSISTMED', 'CAUSABAS', 'CAUSABAS_O'], axis=1, inplace=True)"
   ]
  },
  {
   "cell_type": "code",
   "execution_count": 10,
   "metadata": {},
   "outputs": [],
   "source": [
    "todos['DTOBITO'] = pd.to_datetime(todos['DTOBITO'], format=\"%d%m%Y\")"
   ]
  },
  {
   "cell_type": "code",
   "execution_count": 11,
   "metadata": {},
   "outputs": [],
   "source": [
    "cid10.to_csv('/home/diego/Desktop/monografia/raw_data/suicidios/suicidios.csv', index=False)\n",
    "todos.to_csv('/home/diego/Desktop/monografia/raw_data/suicidios/todos.csv', index=False)"
   ]
  },
  {
   "cell_type": "markdown",
   "metadata": {},
   "source": [
    "### Casos de Doenças Mentais"
   ]
  },
  {
   "cell_type": "code",
   "execution_count": 1,
   "metadata": {},
   "outputs": [
    {
     "name": "stdout",
     "output_type": "stream",
     "text": [
      "/home/diego/Desktop/monografia\n"
     ]
    }
   ],
   "source": [
    "import requests\n",
    "import bs4\n",
    "import pandas as pd\n",
    "from io import StringIO\n",
    "\n",
    "%cd .."
   ]
  },
  {
   "cell_type": "code",
   "execution_count": 4,
   "metadata": {},
   "outputs": [],
   "source": [
    "df_all = pd.DataFrame(columns=['Município', 'Menor 1 ano', '1 a 4 anos', '5 a 9 anos', '10 a 14 anos',\n",
    "       '15 a 19 anos', '20 a 24 anos', '25 a 29 anos', '30 a 34 anos',\n",
    "       '35 a 39 anos', '40 a 44 anos', '45 a 49 anos', '50 a 54 anos',\n",
    "       '55 a 59 anos', '60 a 64 anos', '65 a 69 anos', '70 a 74 anos',\n",
    "       '75 a 79 anos', '80 anos e mais', 'Total', 'municipio_ibge6', 'nome',\n",
    "       'date'])\n",
    "\n",
    "for ano in ['19', '20']:\n",
    "    for mes in ['01', '02', '03', '04', '05', '06', '07', '08', '09', '10', '11', '12']:\n",
    "        cookies = {\n",
    "            'TS014879da': '01e046ca4c8769ecdb02c194221097e0e61da7de5335bbb2cb64d8a3bdb9d428eb5b8d2caa21ebfd8cc3e394f419557e59a7a6b231',\n",
    "        }\n",
    "\n",
    "        headers = {\n",
    "            'Accept': 'text/html,application/xhtml+xml,application/xml;q=0.9,image/avif,image/webp,image/apng,*/*;q=0.8,application/signed-exchange;v=b3;q=0.9',\n",
    "            'Accept-Language': 'pt-BR,pt;q=0.9,en-US;q=0.8,en;q=0.7',\n",
    "            'Cache-Control': 'max-age=0',\n",
    "            'Connection': 'keep-alive',\n",
    "            'Content-Type': 'application/x-www-form-urlencoded',\n",
    "            # 'Cookie': 'TS014879da=01e046ca4c8769ecdb02c194221097e0e61da7de5335bbb2cb64d8a3bdb9d428eb5b8d2caa21ebfd8cc3e394f419557e59a7a6b231',\n",
    "            'Origin': 'http://tabnet.datasus.gov.br',\n",
    "            'Referer': 'http://tabnet.datasus.gov.br/cgi/deftohtm.exe?sia/cnv/qbbr.def',\n",
    "            'Upgrade-Insecure-Requests': '1',\n",
    "            'User-Agent': 'Mozilla/5.0 (X11; Linux x86_64) AppleWebKit/537.36 (KHTML, like Gecko) Chrome/105.0.0.0 Safari/537.36',\n",
    "            'dnt': '1',\n",
    "            'sec-gpc': '1',\n",
    "        }\n",
    "\n",
    "        data = f'Linha=Munic%EDpio&Coluna=Faixa_et%E1ria&Incremento=Qtd.aprovada&Arquivos=qbbr{ano}{mes}.dbf&pesqmes1=Digite+o+texto+e+ache+f%E1cil&SMunic%EDpio=TODAS_AS_CATEGORIAS__&pesqmes2=Digite+o+texto+e+ache+f%E1cil&SCapital=TODAS_AS_CATEGORIAS__&pesqmes3=Digite+o+texto+e+ache+f%E1cil&SRegi%E3o_de_Sa%FAde_%28CIR%29=TODAS_AS_CATEGORIAS__&pesqmes4=Digite+o+texto+e+ache+f%E1cil&SMacrorregi%E3o_de_Sa%FAde=TODAS_AS_CATEGORIAS__&pesqmes5=Digite+o+texto+e+ache+f%E1cil&SMicrorregi%E3o_IBGE=TODAS_AS_CATEGORIAS__&pesqmes6=Digite+o+texto+e+ache+f%E1cil&SRegi%E3o_Metropolitana_-_RIDE=TODAS_AS_CATEGORIAS__&pesqmes7=Digite+o+texto+e+ache+f%E1cil&STerrit%F3rio_da_Cidadania=TODAS_AS_CATEGORIAS__&pesqmes8=Digite+o+texto+e+ache+f%E1cil&SMesorregi%E3o_PNDR=TODAS_AS_CATEGORIAS__&SAmaz%F4nia_Legal=TODAS_AS_CATEGORIAS__&SSemi%E1rido=TODAS_AS_CATEGORIAS__&SFaixa_de_Fronteira=TODAS_AS_CATEGORIAS__&SZona_de_Fronteira=TODAS_AS_CATEGORIAS__&SMunic%EDpio_de_extrema_pobreza=TODAS_AS_CATEGORIAS__&pesqmes14=Digite+o+texto+e+ache+f%E1cil&SProcedimento=TODAS_AS_CATEGORIAS__&SGrupo_procedimento=TODAS_AS_CATEGORIAS__&pesqmes16=Digite+o+texto+e+ache+f%E1cil&SSubgrupo_proced.=TODAS_AS_CATEGORIAS__&pesqmes17=Digite+o+texto+e+ache+f%E1cil&SForma_organiza%E7%E3o=TODAS_AS_CATEGORIAS__&SComplexidade=TODAS_AS_CATEGORIAS__&SCar%E1ter_Atendiment=TODAS_AS_CATEGORIAS__&SDocumento_registro=7&pesqmes21=Digite+o+texto+e+ache+f%E1cil&SFaixa_et%E1ria=TODAS_AS_CATEGORIAS__&SSexo=TODAS_AS_CATEGORIAS__&pesqmes23=Digite+o+texto+e+ache+f%E1cil&SProfissional_-_CBO=TODAS_AS_CATEGORIAS__&zeradas=exibirlz&formato=prn&mostre=Mostra'\n",
    "\n",
    "        response_psico = requests.post('http://tabnet.datasus.gov.br/cgi/tabcgi.exe?sia/cnv/qbbr.def', cookies=cookies, headers=headers, data=data, verify=False)\n",
    "\n",
    "        cookies = {\n",
    "            'TS014879da': '01e046ca4c35857864bae7a51a6f49155d0802970c8881d7555b468f0c1ab498669269934a032389998f439b887b481a8177af6e49',\n",
    "        }\n",
    "\n",
    "        headers = {\n",
    "            'Accept': 'text/html,application/xhtml+xml,application/xml;q=0.9,image/avif,image/webp,image/apng,*/*;q=0.8,application/signed-exchange;v=b3;q=0.9',\n",
    "            'Accept-Language': 'pt-BR,pt;q=0.9,en-US;q=0.8,en;q=0.7',\n",
    "            'Cache-Control': 'max-age=0',\n",
    "            'Connection': 'keep-alive',\n",
    "            'Content-Type': 'application/x-www-form-urlencoded',\n",
    "            # 'Cookie': 'TS014879da=01e046ca4c35857864bae7a51a6f49155d0802970c8881d7555b468f0c1ab498669269934a032389998f439b887b481a8177af6e49',\n",
    "            'Origin': 'http://tabnet.datasus.gov.br',\n",
    "            'Referer': 'http://tabnet.datasus.gov.br/cgi/deftohtm.exe?sia/cnv/qbbr.def',\n",
    "            'Upgrade-Insecure-Requests': '1',\n",
    "            'User-Agent': 'Mozilla/5.0 (X11; Linux x86_64) AppleWebKit/537.36 (KHTML, like Gecko) Chrome/105.0.0.0 Safari/537.36',\n",
    "            'dnt': '1',\n",
    "            'sec-gpc': '1',\n",
    "        }\n",
    "\n",
    "        data = f'Linha=Munic%EDpio&Coluna=--N%E3o-Ativa--&Incremento=Qtd.aprovada&Arquivos=qbbr{ano}{mes}.dbf&pesqmes1=Digite+o+texto+e+ache+f%E1cil&SMunic%EDpio=TODAS_AS_CATEGORIAS__&pesqmes2=Digite+o+texto+e+ache+f%E1cil&SCapital=TODAS_AS_CATEGORIAS__&pesqmes3=Digite+o+texto+e+ache+f%E1cil&SRegi%E3o_de_Sa%FAde_%28CIR%29=TODAS_AS_CATEGORIAS__&pesqmes4=Digite+o+texto+e+ache+f%E1cil&SMacrorregi%E3o_de_Sa%FAde=TODAS_AS_CATEGORIAS__&pesqmes5=Digite+o+texto+e+ache+f%E1cil&SMicrorregi%E3o_IBGE=TODAS_AS_CATEGORIAS__&pesqmes6=Digite+o+texto+e+ache+f%E1cil&SRegi%E3o_Metropolitana_-_RIDE=TODAS_AS_CATEGORIAS__&pesqmes7=Digite+o+texto+e+ache+f%E1cil&STerrit%F3rio_da_Cidadania=TODAS_AS_CATEGORIAS__&pesqmes8=Digite+o+texto+e+ache+f%E1cil&SMesorregi%E3o_PNDR=TODAS_AS_CATEGORIAS__&SAmaz%F4nia_Legal=TODAS_AS_CATEGORIAS__&SSemi%E1rido=TODAS_AS_CATEGORIAS__&SFaixa_de_Fronteira=TODAS_AS_CATEGORIAS__&SZona_de_Fronteira=TODAS_AS_CATEGORIAS__&SMunic%EDpio_de_extrema_pobreza=TODAS_AS_CATEGORIAS__&pesqmes14=Digite+o+texto+e+ache+f%E1cil&SProcedimento=TODAS_AS_CATEGORIAS__&SGrupo_procedimento=TODAS_AS_CATEGORIAS__&pesqmes16=Digite+o+texto+e+ache+f%E1cil&SSubgrupo_proced.=TODAS_AS_CATEGORIAS__&pesqmes17=Digite+o+texto+e+ache+f%E1cil&SForma_organiza%E7%E3o=TODAS_AS_CATEGORIAS__&SComplexidade=TODAS_AS_CATEGORIAS__&SCar%E1ter_Atendiment=TODAS_AS_CATEGORIAS__&SDocumento_registro=TODAS_AS_CATEGORIAS__&pesqmes21=Digite+o+texto+e+ache+f%E1cil&SFaixa_et%E1ria=TODAS_AS_CATEGORIAS__&SSexo=TODAS_AS_CATEGORIAS__&pesqmes23=Digite+o+texto+e+ache+f%E1cil&SProfissional_-_CBO=TODAS_AS_CATEGORIAS__&zeradas=exibirlz&formato=prn&mostre=Mostra'\n",
    "\n",
    "        response_total = requests.post('http://tabnet.datasus.gov.br/cgi/tabcgi.exe?sia/cnv/qbbr.def', cookies=cookies, headers=headers, data=data)\n",
    "        \n",
    "        document = bs4.BeautifulSoup(response_psico.text, 'html.parser')\n",
    "        data = document.find('pre')\n",
    "        TESTDATA = StringIO(data.get_text())\n",
    "        df_psico = pd.read_csv(TESTDATA, sep=\";\")\n",
    "        \n",
    "        document = bs4.BeautifulSoup(response_total.text, 'html.parser')\n",
    "        data = document.find('pre')\n",
    "        TESTDATA = StringIO(data.get_text())\n",
    "        df_total = pd.read_csv(TESTDATA, sep=\";\")\n",
    "\n",
    "        df_psico = df_psico[(df_psico['Município'] != 'Total') & (df_psico['Município'] != '&')]\n",
    "        df_total = df_total[(df_total['Município'] != 'Total') & (df_total['Município'] != '&')]\n",
    "        \n",
    "        df_psico['municipio_ibge6'] = df_psico['Município'].apply(lambda x: x.split(' ')[0])\n",
    "        df_psico['nome'] = df_psico['Município'].apply(lambda x: ' '.join(x.split(' ')[1:]))\n",
    "        df_total['municipio_ibge6'] = df_total['Município'].apply(lambda x: x.split(' ')[0])\n",
    "        df_total['nome'] = df_psico['Município'].apply(lambda x: ' '.join(x.split(' ')[1:]))\n",
    "\n",
    "        df_psico = df_psico.replace('-', 0)\n",
    "        df_total = df_total.replace('-', 0)\n",
    "\n",
    "        df = pd.merge(df_psico, df_total[['municipio_ibge6', 'Qtd.aprovada']], on='municipio_ibge6')\n",
    "\n",
    "        df = df[['Município', 'Menor 1 ano', '1 a 4 anos', '5 a 9 anos', '10 a 14 anos',\n",
    "       '15 a 19 anos', '20 a 24 anos', '25 a 29 anos', '30 a 34 anos',\n",
    "       '35 a 39 anos', '40 a 44 anos', '45 a 49 anos', '50 a 54 anos',\n",
    "       '55 a 59 anos', '60 a 64 anos', '65 a 69 anos', '70 a 74 anos',\n",
    "       '75 a 79 anos', '80 anos e mais', 'Total', 'municipio_ibge6', 'nome',\n",
    "       'Qtd.aprovada']]\n",
    "\n",
    "        df.rename(columns={'Qtd.aprovada': 'total_internacoes_geral'}, inplace=True)\n",
    "\n",
    "        df['date'] = f'20{ano}-{mes}-01'\n",
    "\n",
    "        df_all = pd.concat([df_all, df], ignore_index=True)\n",
    "\n",
    "        df_all.to_csv('raw_data/internacoes/internacoes.csv', index=False)"
   ]
  },
  {
   "cell_type": "code",
   "execution_count": null,
   "metadata": {},
   "outputs": [],
   "source": []
  }
 ],
 "metadata": {
  "kernelspec": {
   "display_name": "Python 3.9.6 ('env': venv)",
   "language": "python",
   "name": "python3"
  },
  "language_info": {
   "codemirror_mode": {
    "name": "ipython",
    "version": 3
   },
   "file_extension": ".py",
   "mimetype": "text/x-python",
   "name": "python",
   "nbconvert_exporter": "python",
   "pygments_lexer": "ipython3",
   "version": "3.9.6"
  },
  "orig_nbformat": 4,
  "vscode": {
   "interpreter": {
    "hash": "5a648c56f55f8b0168fc47465c367b5026ef090b20d6c3f78c4f8ca7d1e2574c"
   }
  }
 },
 "nbformat": 4,
 "nbformat_minor": 2
}
