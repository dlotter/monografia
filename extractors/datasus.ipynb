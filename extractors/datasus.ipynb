{
 "cells": [
  {
   "cell_type": "markdown",
   "metadata": {},
   "source": [
    "https://medium.com/psicodata/baixando-e-processando-dados-do-datasus-sobre-suic%C3%ADdio-com-python-656afa17f6ad"
   ]
  },
  {
   "cell_type": "code",
   "execution_count": 1,
   "metadata": {},
   "outputs": [],
   "source": [
    "from pysus.online_data.SIM import download\n",
    "import pandas as pd\n",
    "import datetime\n",
    "estados = ['AC', 'AL', 'AP', 'AM', 'BA', 'CE', 'DF', 'ES', 'GO', 'MA', 'MT','MS', 'MG', 'PA', 'PB', 'PR', 'PE', 'PI', 'RJ', 'RN', 'RS', 'RO', 'RR', 'SC','SP', 'SE', 'TO']\n",
    "anos = [2019, 2020]"
   ]
  },
  {
   "cell_type": "code",
   "execution_count": 2,
   "metadata": {},
   "outputs": [
    {
     "name": "stdout",
     "output_type": "stream",
     "text": [
      "Banco de 2019 de AC baixado!\n",
      "Banco de 2019 de AL baixado!\n",
      "Banco de 2019 de AP baixado!\n",
      "Banco de 2019 de AM baixado!\n",
      "Banco de 2019 de BA baixado!\n",
      "Banco de 2019 de CE baixado!\n",
      "Banco de 2019 de DF baixado!\n",
      "Banco de 2019 de ES baixado!\n",
      "Banco de 2019 de GO baixado!\n",
      "Banco de 2019 de MA baixado!\n",
      "Banco de 2019 de MT baixado!\n",
      "Banco de 2019 de MS baixado!\n",
      "Banco de 2019 de MG baixado!\n",
      "Banco de 2019 de PA baixado!\n",
      "Banco de 2019 de PB baixado!\n",
      "Banco de 2019 de PR baixado!\n",
      "Banco de 2019 de PE baixado!\n",
      "Banco de 2019 de PI baixado!\n",
      "Banco de 2019 de RJ baixado!\n",
      "Banco de 2019 de RN baixado!\n",
      "Banco de 2019 de RS baixado!\n",
      "Banco de 2019 de RO baixado!\n",
      "Banco de 2019 de RR baixado!\n",
      "Banco de 2019 de SC baixado!\n",
      "Banco de 2019 de SP baixado!\n",
      "Banco de 2019 de SE baixado!\n",
      "Banco de 2019 de TO baixado!\n",
      "Banco de 2020 de AC baixado!\n",
      "Banco de 2020 de AL baixado!\n",
      "Banco de 2020 de AP baixado!\n",
      "Banco de 2020 de AM baixado!\n",
      "Banco de 2020 de BA baixado!\n",
      "Banco de 2020 de CE baixado!\n",
      "Banco de 2020 de DF baixado!\n",
      "Banco de 2020 de ES baixado!\n",
      "Banco de 2020 de GO baixado!\n",
      "Banco de 2020 de MA baixado!\n",
      "Banco de 2020 de MT baixado!\n",
      "Banco de 2020 de MS baixado!\n",
      "Banco de 2020 de MG baixado!\n",
      "Banco de 2020 de PA baixado!\n",
      "Banco de 2020 de PB baixado!\n",
      "Banco de 2020 de PR baixado!\n",
      "Banco de 2020 de PE baixado!\n",
      "Banco de 2020 de PI baixado!\n",
      "Banco de 2020 de RJ baixado!\n",
      "Banco de 2020 de RN baixado!\n",
      "Banco de 2020 de RS baixado!\n",
      "Banco de 2020 de RO baixado!\n",
      "Banco de 2020 de RR baixado!\n",
      "Banco de 2020 de SC baixado!\n",
      "Banco de 2020 de SP baixado!\n",
      "Banco de 2020 de SE baixado!\n",
      "Banco de 2020 de TO baixado!\n"
     ]
    }
   ],
   "source": [
    "banco = {}\n",
    "for y in anos:\n",
    "    for uf in estados:\n",
    "        banco[uf, y] = download(state=uf, year=y)\n",
    "        print(\"Banco de \" + str(y) + \" de \" + str(uf) + \" baixado!\")"
   ]
  },
  {
   "cell_type": "code",
   "execution_count": 3,
   "metadata": {},
   "outputs": [],
   "source": [
    "todos = pd.concat({k: pd.DataFrame.from_dict(v) for k, v in banco.items()}, axis=0).reset_index()\n",
    "todos = todos[[\n",
    "'level_0', 'level_1', 'CIRCOBITO', 'DTOBITO', 'DTNASC', 'SEXO', 'RACACOR', 'ESTCIV', 'ESC', 'OCUP', 'CODMUNRES', 'LOCOCOR', 'ASSISTMED', 'CAUSABAS', 'CAUSABAS_O'\n",
    "]]\n",
    "todos.rename(columns={'level_0': 'estado', 'level_1': 'ano'}, inplace=True)  # renomeando colunas\n"
   ]
  },
  {
   "cell_type": "code",
   "execution_count": 4,
   "metadata": {},
   "outputs": [],
   "source": [
    "filter_list = [\"X{}\".format(x) for x in range(600, 850)]\n",
    "cid10 = todos[\n",
    "todos['CAUSABAS'].isin(filter_list) | todos['CAUSABAS_O'].isin(filter_list)\n",
    "]"
   ]
  },
  {
   "cell_type": "code",
   "execution_count": 5,
   "metadata": {},
   "outputs": [],
   "source": [
    "dictCIRCOBITO = {\n",
    "'1': 'Acidente',\n",
    "'2': 'Suicídio',\n",
    "'3': 'Homicídio',\n",
    "'4': 'Outro',\n",
    "'0': 'NA',\n",
    "'6': \"NA\",\n",
    "'7': \"NA\",\n",
    "'8': \"NA\",\n",
    "'9': \"NA\"\n",
    "}\n",
    "dicSEXO = {\n",
    "'1': 'Masculino',\n",
    "'2': 'Feminino',\n",
    "'0': 'NA',\n",
    "'9': 'NA'\n",
    "}\n",
    "dicRACACOR = {\n",
    "'1': 'Branca',\n",
    "'2': 'Preta',\n",
    "'3': 'Amarela',\n",
    "'4': 'Parda',\n",
    "'5': 'Indígena',\n",
    "'0': 'NA',\n",
    "'6': \"NA\",\n",
    "'7': \"NA\",\n",
    "'8': \"NA\",\n",
    "'9': \"NA\"\n",
    "}\n",
    "dicESTCIV = {\n",
    "'1': 'Solteiro',\n",
    "'2': 'Casado',\n",
    "'3': 'Viúvo',\n",
    "'4': 'Separado judicialmente',\n",
    "'5': 'União consensual',\n",
    "'0': 'NA',\n",
    "'6': \"NA\",\n",
    "'7': \"NA\",\n",
    "'8': \"NA\",\n",
    "'9': \"NA\"\n",
    "}\n",
    "dicESC = {\n",
    "'1': 'Nenhuma',\n",
    "'2': '1 a 3 anos',\n",
    "'3': '4 a 7 anos',\n",
    "'4': '8 a 11 anos',\n",
    "'5': '12 e mais',\n",
    "'8': 'De 9 a 11 anos',\n",
    "'0': 'NA',\n",
    "'6': 'NA',\n",
    "'7': 'NA',\n",
    "'9': 'NA',\n",
    "'': 'NA'\n",
    "}\n",
    "dictLOCOCOR = {\n",
    "'1': 'Hospital',\n",
    "'2': 'Outro estabelecimento de saúde',\n",
    "'3': 'Domicílio',\n",
    "'4': 'Via pública',\n",
    "'5': 'Outros',\n",
    "'9': 'NA'\n",
    "}\n",
    "dictASSISTMED = {\n",
    "'1': 'Sim',\n",
    "'2': 'Não',\n",
    "'9': 'NA'\n",
    "}\n",
    "cid10 = cid10.replace({'CIRCOBITO': dictCIRCOBITO, 'SEXO': dicSEXO, 'RACACOR': dicRACACOR,'ESTCIV': dicESTCIV, 'ESC': dicESC, 'LOCOCOR': dictLOCOCOR, 'ASSISTMED': dictASSISTMED})\n",
    "cid10['DTNASC'] = cid10['DTNASC'][cid10['DTNASC'] != ''].apply(lambda x: datetime.datetime.strptime(x, \"%d%m%Y\"))\n",
    "cid10['DTOBITO'] = pd.to_datetime(cid10['DTOBITO'], format=\"%d%m%Y\")"
   ]
  },
  {
   "cell_type": "code",
   "execution_count": 6,
   "metadata": {},
   "outputs": [],
   "source": [
    "cid10['idade'] = cid10['DTOBITO'].dt.year - cid10['DTNASC'].dt.year\n",
    "cid10['mes'] = cid10['DTOBITO'].map(lambda x: x.strftime('%m'))"
   ]
  },
  {
   "cell_type": "code",
   "execution_count": 7,
   "metadata": {},
   "outputs": [],
   "source": [
    "CBO2002 = pd.read_csv('CBO.csv').set_index('CODIGO').to_dict()\n",
    "cid10['OCUP'] = cid10['OCUP'].replace('', 0).astype(int)\n",
    "cid10['OCUP'] = cid10['OCUP'].replace(CBO2002['OCUPACAO'])"
   ]
  },
  {
   "cell_type": "code",
   "execution_count": 8,
   "metadata": {},
   "outputs": [
    {
     "name": "stderr",
     "output_type": "stream",
     "text": [
      "/tmp/ipykernel_3462071/366119948.py:2: FutureWarning: The error_bad_lines argument has been deprecated and will be removed in a future version. Use on_bad_lines in the future.\n",
      "\n",
      "\n",
      "  municipios = pd.read_csv(URL, error_bad_lines=False, sep=';', encoding='latin-1', usecols=['IBGE', 'IBGE7']).set_index('IBGE').to_dict()\n"
     ]
    }
   ],
   "source": [
    "URL = 'http://blog.mds.gov.br/redesuas/wp-content/uploads/2018/06/Lista_Munic%C3%ADpios_com_IBGE_Brasil_Versao_CSV.csv'\n",
    "municipios = pd.read_csv(URL, error_bad_lines=False, sep=';', encoding='latin-1', usecols=['IBGE', 'IBGE7']).set_index('IBGE').to_dict()\n",
    "cid10['CODMUNRES'] = cid10['CODMUNRES'].astype(int).replace(municipios['IBGE7'])"
   ]
  },
  {
   "cell_type": "code",
   "execution_count": 9,
   "metadata": {},
   "outputs": [],
   "source": [
    "todos.drop(['ano', 'estado', 'CIRCOBITO', 'DTNASC', 'SEXO', 'RACACOR', 'ESTCIV', 'ESC', 'OCUP', 'LOCOCOR', 'ASSISTMED', 'CAUSABAS', 'CAUSABAS_O'], axis=1, inplace=True)"
   ]
  },
  {
   "cell_type": "code",
   "execution_count": 10,
   "metadata": {},
   "outputs": [],
   "source": [
    "todos['DTOBITO'] = pd.to_datetime(todos['DTOBITO'], format=\"%d%m%Y\")"
   ]
  },
  {
   "cell_type": "code",
   "execution_count": 11,
   "metadata": {},
   "outputs": [],
   "source": [
    "cid10.to_csv('/home/diego/Desktop/monografia/raw_data/suicidios/suicidios.csv', index=False)\n",
    "todos.to_csv('/home/diego/Desktop/monografia/raw_data/suicidios/todos.csv', index=False)"
   ]
  }
 ],
 "metadata": {
  "kernelspec": {
   "display_name": "Python 3.8.10 ('env': venv)",
   "language": "python",
   "name": "python3"
  },
  "language_info": {
   "codemirror_mode": {
    "name": "ipython",
    "version": 3
   },
   "file_extension": ".py",
   "mimetype": "text/x-python",
   "name": "python",
   "nbconvert_exporter": "python",
   "pygments_lexer": "ipython3",
   "version": "3.8.10"
  },
  "orig_nbformat": 4,
  "vscode": {
   "interpreter": {
    "hash": "74ecc8fd3aec51f280785299e87690e61bb7821f3069ae3f92509e7e4de76ad8"
   }
  }
 },
 "nbformat": 4,
 "nbformat_minor": 2
}
